{
 "cells": [
  {
   "cell_type": "code",
   "execution_count": 1,
   "metadata": {},
   "outputs": [
    {
     "name": "stderr",
     "output_type": "stream",
     "text": [
      "/Library/Frameworks/Python.framework/Versions/3.10/lib/python3.10/site-packages/tqdm/auto.py:21: TqdmWarning: IProgress not found. Please update jupyter and ipywidgets. See https://ipywidgets.readthedocs.io/en/stable/user_install.html\n",
      "  from .autonotebook import tqdm as notebook_tqdm\n",
      "Generating train split: 10000 examples [00:00, 396167.45 examples/s]\n"
     ]
    }
   ],
   "source": [
    "from datasets import load_dataset\n",
    "import os\n",
    "dataset = load_dataset('parquet', data_files='5G_SecOps_Data_10K.parquet')\n",
    "api_key = os.getenv('OPENAI_API_KEY')\n",
    "org_key = os.getenv('OPENAI_ORG_ID')"
   ]
  },
  {
   "cell_type": "code",
   "execution_count": 2,
   "metadata": {},
   "outputs": [
    {
     "data": {
      "text/plain": [
       "{'Cluster': '5G_Core_Cluster_eu-west1',\n",
       " 'Namespace': 'ericsson',\n",
       " 'Policy Violations': 5,\n",
       " 'Suspicious Process Executions': 1,\n",
       " 'Image Vulnerabilities': 7,\n",
       " 'Service Configurations': 'Good',\n",
       " 'Service Reachability': 'External',\n",
       " 'NEP Vulnerabilities': 5,\n",
       " 'RBAC Configuration': 'Medium',\n",
       " 'Protocol Anomalies': 1,\n",
       " 'Routing Table Changes': 1,\n",
       " 'DoS Attacks': 2,\n",
       " 'Firewall Events': 3,\n",
       " 'Authentication Failures': 0,\n",
       " 'Authorization Failures': 0,\n",
       " 'SSL/TLS Certificate Expiry': 0,\n",
       " 'NTP Synchronization': 0,\n",
       " 'Unauthorized Device Inventory': 0,\n",
       " 'Backup Integrity': 0,\n",
       " 'NMS Alerts': 3,\n",
       " 'Risk Score': 55.0}"
      ]
     },
     "execution_count": 2,
     "metadata": {},
     "output_type": "execute_result"
    }
   ],
   "source": [
    "train_data = dataset['train']\n",
    "train_data[0]"
   ]
  },
  {
   "cell_type": "code",
   "execution_count": 3,
   "metadata": {},
   "outputs": [],
   "source": [
    "import openai\n",
    "\n",
    "class RiskScorePredictor:\n",
    "    def __init__(self, api_key=api_key, model=\"gpt-3.5-turbo-1106\", org_key=org_key):\n",
    "        openai.api_key = api_key\n",
    "        openai.organization = org_key\n",
    "        self.model = model\n",
    "        self.system_message = {\n",
    "            \"role\": \"system\",\n",
    "            \"content\": \"You are an expert AI assistant that predicts the risk score based on provided system characteristics over a historical window.\"\n",
    "        }\n",
    "\n",
    "    def create_user_message(self, historical_window):\n",
    "        \"\"\"Creates a user message with a historical window of data.\"\"\"\n",
    "        message_content = \"Given the following historical system characteristics, predict the Risk Score:\\n\\n\"\n",
    "        \n",
    "        for i, entry in enumerate(historical_window):\n",
    "            message_content += (\n",
    "                f\"--- Entry {i+1} ---\\n\"\n",
    "                f\"Cluster: {entry['Cluster']}\\n\"\n",
    "                f\"Namespace: {entry['Namespace']}\\n\"\n",
    "                f\"Policy Violations: {entry['Policy Violations']}\\n\"\n",
    "                f\"Suspicious Process Executions: {entry['Suspicious Process Executions']}\\n\"\n",
    "                f\"Image Vulnerabilities: {entry['Image Vulnerabilities']}\\n\"\n",
    "                f\"Service Configurations: {entry['Service Configurations']}\\n\"\n",
    "                f\"Service Reachability: {entry['Service Reachability']}\\n\"\n",
    "                f\"NEP Vulnerabilities: {entry['NEP Vulnerabilities']}\\n\"\n",
    "                f\"RBAC Configuration: {entry['RBAC Configuration']}\\n\"\n",
    "                f\"Protocol Anomalies: {entry['Protocol Anomalies']}\\n\"\n",
    "                f\"Routing Table Changes: {entry['Routing Table Changes']}\\n\"\n",
    "                f\"DoS Attacks: {entry['DoS Attacks']}\\n\"\n",
    "                f\"Firewall Events: {entry['Firewall Events']}\\n\"\n",
    "                f\"Authentication Failures: {entry['Authentication Failures']}\\n\"\n",
    "                f\"Authorization Failures: {entry['Authorization Failures']}\\n\"\n",
    "                f\"SSL/TLS Certificate Expiry: {entry['SSL/TLS Certificate Expiry']}\\n\"\n",
    "                f\"NTP Synchronization: {entry['NTP Synchronization']}\\n\"\n",
    "                f\"Unauthorized Device Inventory: {entry['Unauthorized Device Inventory']}\\n\"\n",
    "                f\"Backup Integrity: {entry['Backup Integrity']}\\n\"\n",
    "                f\"NMS Alerts: {entry['NMS Alerts']}\\n\\n\"\n",
    "            )\n",
    "\n",
    "        message_content += \"What is the predicted Risk Score for next entry? Only output your predicted score (float number). Only output a single float number. No other text.\"\n",
    "        \n",
    "        return {\n",
    "            \"role\": \"user\",\n",
    "            \"content\": message_content\n",
    "        }\n",
    "\n",
    "    def create_user_message_w_reasoning(self, historical_window):\n",
    "        \"\"\"Creates a user message with a historical window of data.\"\"\"\n",
    "        message_content = \"Given the following historical system characteristics, predict the Risk Score:\\n\\n\"\n",
    "        \n",
    "        for i, entry in enumerate(historical_window):\n",
    "            message_content += (\n",
    "                f\"--- Entry {i+1} ---\\n\"\n",
    "                f\"Cluster: {entry['Cluster']}\\n\"\n",
    "                f\"Namespace: {entry['Namespace']}\\n\"\n",
    "                f\"Policy Violations: {entry['Policy Violations']}\\n\"\n",
    "                f\"Suspicious Process Executions: {entry['Suspicious Process Executions']}\\n\"\n",
    "                f\"Image Vulnerabilities: {entry['Image Vulnerabilities']}\\n\"\n",
    "                f\"Service Configurations: {entry['Service Configurations']}\\n\"\n",
    "                f\"Service Reachability: {entry['Service Reachability']}\\n\"\n",
    "                f\"NEP Vulnerabilities: {entry['NEP Vulnerabilities']}\\n\"\n",
    "                f\"RBAC Configuration: {entry['RBAC Configuration']}\\n\"\n",
    "                 f\"Protocol Anomalies: {entry['Protocol Anomalies']}\\n\"\n",
    "                f\"Routing Table Changes: {entry['Routing Table Changes']}\\n\"\n",
    "                f\"DoS Attacks: {entry['DoS Attacks']}\\n\"\n",
    "                f\"Firewall Events: {entry['Firewall Events']}\\n\"\n",
    "                f\"Authentication Failures: {entry['Authentication Failures']}\\n\"\n",
    "                f\"Authorization Failures: {entry['Authorization Failures']}\\n\"\n",
    "                f\"SSL/TLS Certificate Expiry: {entry['SSL/TLS Certificate Expiry']}\\n\"\n",
    "                f\"NTP Synchronization: {entry['NTP Synchronization']}\\n\"\n",
    "                f\"Unauthorized Device Inventory: {entry['Unauthorized Device Inventory']}\\n\"\n",
    "                f\"Backup Integrity: {entry['Backup Integrity']}\\n\"\n",
    "                f\"NMS Alerts: {entry['NMS Alerts']}\\n\\n\"\n",
    "            )\n",
    "        message_content += \"What is the predicted Risk Score for next entry? Do some reasoning. Only output your predicted score (float number). Only output a single float number. No other text.\"\n",
    "        \n",
    "        return {\n",
    "            \"role\": \"user\",\n",
    "            \"content\": message_content\n",
    "        }\n",
    "\n",
    "\n",
    "    def predict_risk_score(self, historical_window):\n",
    "        \"\"\"Predicts the risk score based on a historical window of entries.\"\"\"\n",
    "        messages = [\n",
    "            self.system_message,\n",
    "            #self.create_user_message(historical_window),\n",
    "            self.create_user_message_w_reasoning(historical_window),\n",
    "            {\"role\": \"assistant\", \"content\": \"\"}\n",
    "        ]\n",
    "        \n",
    "        response = openai.chat.completions.create(\n",
    "            model=self.model,\n",
    "            messages=messages,\n",
    "            max_tokens=50,\n",
    "            temperature=0.0\n",
    "        )\n",
    "        \n",
    "        return response.choices[0].message.content"
   ]
  },
  {
   "cell_type": "code",
   "execution_count": 4,
   "metadata": {},
   "outputs": [],
   "source": [
    "import numpy as np\n",
    "\n",
    "def evaluate_predictions(predictor, dataset, n=10, window_size=3):\n",
    "    predictions = []\n",
    "    ground_truth = []\n",
    "    \n",
    "    for i in range(window_size, n):\n",
    "        # Prepare the historical window\n",
    "        historical_window = [dataset[j] for j in range(i-window_size, i)]\n",
    "        \n",
    "        # Predict the risk score\n",
    "        predicted_score = float(predictor.predict_risk_score(historical_window))\n",
    "        \n",
    "        # Extract the ground truth risk score\n",
    "        actual_score = dataset[i]['Risk Score']\n",
    "        \n",
    "        # Append the results for evaluation\n",
    "        predictions.append(float(predicted_score))\n",
    "        ground_truth.append(actual_score)\n",
    "        \n",
    "        print(f\"Predicted Risk Score: {predicted_score}, Actual Risk Score: {actual_score}\")\n",
    "    \n",
    "    # Calculate the Mean Squared Error (MSE) as an evaluation metric\n",
    "    mse = np.mean((np.array(predictions) - np.array(ground_truth)) ** 2)\n",
    "    print(f\"Mean Squared Error over first {n} entries: {mse}\")"
   ]
  },
  {
   "cell_type": "markdown",
   "metadata": {},
   "source": [
    "## zero shot raw prediction"
   ]
  },
  {
   "cell_type": "code",
   "execution_count": 5,
   "metadata": {},
   "outputs": [
    {
     "ename": "AttributeError",
     "evalue": "module 'openai' has no attribute 'chat'",
     "output_type": "error",
     "traceback": [
      "\u001b[0;31m---------------------------------------------------------------------------\u001b[0m",
      "\u001b[0;31mAttributeError\u001b[0m                            Traceback (most recent call last)",
      "Cell \u001b[0;32mIn[5], line 8\u001b[0m\n\u001b[1;32m      5\u001b[0m historical_window \u001b[38;5;241m=\u001b[39m [train_data[i] \u001b[38;5;28;01mfor\u001b[39;00m i \u001b[38;5;129;01min\u001b[39;00m \u001b[38;5;28mrange\u001b[39m(\u001b[38;5;241m10\u001b[39m)]\n\u001b[1;32m      7\u001b[0m \u001b[38;5;66;03m# Predict the risk score based on the historical window\u001b[39;00m\n\u001b[0;32m----> 8\u001b[0m predicted_risk_score \u001b[38;5;241m=\u001b[39m \u001b[43mpredictor\u001b[49m\u001b[38;5;241;43m.\u001b[39;49m\u001b[43mpredict_risk_score\u001b[49m\u001b[43m(\u001b[49m\u001b[43mhistorical_window\u001b[49m\u001b[43m)\u001b[49m\n\u001b[1;32m      9\u001b[0m \u001b[38;5;28mprint\u001b[39m(\u001b[38;5;124mf\u001b[39m\u001b[38;5;124m\"\u001b[39m\u001b[38;5;124mPredicted Risk Score: \u001b[39m\u001b[38;5;132;01m{\u001b[39;00mpredicted_risk_score\u001b[38;5;132;01m}\u001b[39;00m\u001b[38;5;124m\"\u001b[39m)\n\u001b[1;32m     11\u001b[0m evaluate_predictions(predictor, train_data, n\u001b[38;5;241m=\u001b[39m\u001b[38;5;241m10\u001b[39m, window_size\u001b[38;5;241m=\u001b[39m\u001b[38;5;241m3\u001b[39m)\n",
      "Cell \u001b[0;32mIn[3], line 94\u001b[0m, in \u001b[0;36mRiskScorePredictor.predict_risk_score\u001b[0;34m(self, historical_window)\u001b[0m\n\u001b[1;32m     86\u001b[0m \u001b[38;5;250m\u001b[39m\u001b[38;5;124;03m\"\"\"Predicts the risk score based on a historical window of entries.\"\"\"\u001b[39;00m\n\u001b[1;32m     87\u001b[0m messages \u001b[38;5;241m=\u001b[39m [\n\u001b[1;32m     88\u001b[0m     \u001b[38;5;28mself\u001b[39m\u001b[38;5;241m.\u001b[39msystem_message,\n\u001b[1;32m     89\u001b[0m     \u001b[38;5;66;03m#self.create_user_message(historical_window),\u001b[39;00m\n\u001b[1;32m     90\u001b[0m     \u001b[38;5;28mself\u001b[39m\u001b[38;5;241m.\u001b[39mcreate_user_message_w_reasoning(historical_window),\n\u001b[1;32m     91\u001b[0m     {\u001b[38;5;124m\"\u001b[39m\u001b[38;5;124mrole\u001b[39m\u001b[38;5;124m\"\u001b[39m: \u001b[38;5;124m\"\u001b[39m\u001b[38;5;124massistant\u001b[39m\u001b[38;5;124m\"\u001b[39m, \u001b[38;5;124m\"\u001b[39m\u001b[38;5;124mcontent\u001b[39m\u001b[38;5;124m\"\u001b[39m: \u001b[38;5;124m\"\u001b[39m\u001b[38;5;124m\"\u001b[39m}\n\u001b[1;32m     92\u001b[0m ]\n\u001b[0;32m---> 94\u001b[0m response \u001b[38;5;241m=\u001b[39m \u001b[43mopenai\u001b[49m\u001b[38;5;241;43m.\u001b[39;49m\u001b[43mchat\u001b[49m\u001b[38;5;241m.\u001b[39mcompletions\u001b[38;5;241m.\u001b[39mcreate(\n\u001b[1;32m     95\u001b[0m     model\u001b[38;5;241m=\u001b[39m\u001b[38;5;28mself\u001b[39m\u001b[38;5;241m.\u001b[39mmodel,\n\u001b[1;32m     96\u001b[0m     messages\u001b[38;5;241m=\u001b[39mmessages,\n\u001b[1;32m     97\u001b[0m     max_tokens\u001b[38;5;241m=\u001b[39m\u001b[38;5;241m50\u001b[39m,\n\u001b[1;32m     98\u001b[0m     temperature\u001b[38;5;241m=\u001b[39m\u001b[38;5;241m0.0\u001b[39m\n\u001b[1;32m     99\u001b[0m )\n\u001b[1;32m    101\u001b[0m \u001b[38;5;28;01mreturn\u001b[39;00m response\u001b[38;5;241m.\u001b[39mchoices[\u001b[38;5;241m0\u001b[39m]\u001b[38;5;241m.\u001b[39mmessage\u001b[38;5;241m.\u001b[39mcontent\n",
      "\u001b[0;31mAttributeError\u001b[0m: module 'openai' has no attribute 'chat'"
     ]
    }
   ],
   "source": [
    "# Initialize the predictor\n",
    "predictor = RiskScorePredictor(model=\"gpt-3.5-turbo-1106\")\n",
    "\n",
    "# Assume we want to use a window of the last 3 entries to predict the risk score\n",
    "historical_window = [train_data[i] for i in range(10)]\n",
    "\n",
    "# Predict the risk score based on the historical window\n",
    "predicted_risk_score = predictor.predict_risk_score(historical_window)\n",
    "print(f\"Predicted Risk Score: {predicted_risk_score}\")\n",
    "\n",
    "evaluate_predictions(predictor, train_data, n=10, window_size=3)"
   ]
  },
  {
   "cell_type": "markdown",
   "metadata": {},
   "source": [
    "## with reasoning"
   ]
  },
  {
   "cell_type": "code",
   "execution_count": 11,
   "metadata": {},
   "outputs": [
    {
     "name": "stdout",
     "output_type": "stream",
     "text": [
      "Predicted Risk Score: 6.5\n",
      "Predicted Risk Score: 7.3, Actual Risk Score: 46.5\n",
      "Predicted Risk Score: 7.2, Actual Risk Score: 15.0\n",
      "Predicted Risk Score: 7.2, Actual Risk Score: 49.0\n",
      "Predicted Risk Score: 7.5, Actual Risk Score: 30.0\n",
      "Predicted Risk Score: 7.5, Actual Risk Score: 46.0\n",
      "Predicted Risk Score: 6.8, Actual Risk Score: 20.0\n",
      "Predicted Risk Score: 4.2, Actual Risk Score: 40.0\n",
      "Mean Squared Error over first 10 entries: 969.8714285714286\n"
     ]
    }
   ],
   "source": [
    "# Initialize the predictor\n",
    "predictor = RiskScorePredictor(model=\"gpt-3.5-turbo\")\n",
    "\n",
    "# Assume we want to use a window of the last 3 entries to predict the risk score\n",
    "historical_window = [train_data[i] for i in range(10)]\n",
    "\n",
    "# Predict the risk score based on the historical window\n",
    "predicted_risk_score = predictor.predict_risk_score(historical_window)\n",
    "print(f\"Predicted Risk Score: {predicted_risk_score}\")\n",
    "\n",
    "evaluate_predictions(predictor, train_data, n=10, window_size=3)"
   ]
  },
  {
   "cell_type": "code",
   "execution_count": null,
   "metadata": {},
   "outputs": [],
   "source": []
  }
 ],
 "metadata": {
  "kernelspec": {
   "display_name": "Python 3 (ipykernel)",
   "language": "python",
   "name": "python3"
  },
  "language_info": {
   "codemirror_mode": {
    "name": "ipython",
    "version": 3
   },
   "file_extension": ".py",
   "mimetype": "text/x-python",
   "name": "python",
   "nbconvert_exporter": "python",
   "pygments_lexer": "ipython3",
   "version": "3.10.11"
  }
 },
 "nbformat": 4,
 "nbformat_minor": 2
}
