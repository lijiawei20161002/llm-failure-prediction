{
 "cells": [
  {
   "cell_type": "code",
   "execution_count": 6,
   "metadata": {},
   "outputs": [],
   "source": [
    "from datasets import load_dataset\n",
    "dataset = load_dataset('fenar/sec_ops')"
   ]
  },
  {
   "cell_type": "code",
   "execution_count": 2,
   "metadata": {},
   "outputs": [
    {
     "data": {
      "text/plain": [
       "{'Cluster': '5G_RAN_Cluster_eu-west1',\n",
       " 'Namespace': 'ericsson',\n",
       " 'Policy Violations': 5,\n",
       " 'Suspicious Process Executions': 1,\n",
       " 'Image Vulnerabilities': 7,\n",
       " 'Service Configurations': 'Good',\n",
       " 'Service Reachability': 'Internal',\n",
       " 'NEP Vulnerabilities': 5,\n",
       " 'RBAC Configuration': 'Low',\n",
       " 'Protocol Anomalies': 0,\n",
       " 'Routing Table Changes': 0,\n",
       " 'DoS Attacks': 2,\n",
       " 'Firewall Events': 2,\n",
       " 'Authentication Failures': 0,\n",
       " 'Authorization Failures': 0,\n",
       " 'SSL/TLS Certificate Expiry': 0,\n",
       " 'NTP Synchronization': 0,\n",
       " 'Unauthorized Device Inventory': 0,\n",
       " 'Backup Integrity': 1,\n",
       " 'NMS Alerts': 2,\n",
       " 'Risk Score': 48.0}"
      ]
     },
     "execution_count": 2,
     "metadata": {},
     "output_type": "execute_result"
    }
   ],
   "source": [
    "train_data = dataset['train']\n",
    "train_data[0]"
   ]
  },
  {
   "cell_type": "code",
   "execution_count": 10,
   "metadata": {},
   "outputs": [],
   "source": [
    "import openai\n",
    "\n",
    "class RiskScorePredictor:\n",
    "    def __init__(self, api_key='', model=\"gpt-3.5-turbo-1106\", org_key='):\n",
    "        openai.api_key = api_key\n",
    "        openai.organization = org_key\n",
    "        self.model = model\n",
    "        self.system_message = {\n",
    "            \"role\": \"system\",\n",
    "            \"content\": \"You are an expert AI assistant that predicts the risk score based on provided system characteristics over a historical window.\"\n",
    "        }\n",
    "\n",
    "    def create_user_message(self, historical_window):\n",
    "        \"\"\"Creates a user message with a historical window of data.\"\"\"\n",
    "        message_content = \"Given the following historical system characteristics, predict the Risk Score:\\n\\n\"\n",
    "        \n",
    "        for i, entry in enumerate(historical_window):\n",
    "            message_content += (\n",
    "                f\"--- Entry {i+1} ---\\n\"\n",
    "                f\"Cluster: {entry['Cluster']}\\n\"\n",
    "                f\"Namespace: {entry['Namespace']}\\n\"\n",
    "                f\"Policy Violations: {entry['Policy Violations']}\\n\"\n",
    "                f\"Suspicious Process Executions: {entry['Suspicious Process Executions']}\\n\"\n",
    "                f\"Image Vulnerabilities: {entry['Image Vulnerabilities']}\\n\"\n",
    "                f\"Service Configurations: {entry['Service Configurations']}\\n\"\n",
    "                f\"Service Reachability: {entry['Service Reachability']}\\n\"\n",
    "                f\"NEP Vulnerabilities: {entry['NEP Vulnerabilities']}\\n\"\n",
    "                f\"RBAC Configuration: {entry['RBAC Configuration']}\\n\"\n",
    "                f\"Protocol Anomalies: {entry['Protocol Anomalies']}\\n\"\n",
    "                f\"Routing Table Changes: {entry['Routing Table Changes']}\\n\"\n",
    "                f\"DoS Attacks: {entry['DoS Attacks']}\\n\"\n",
    "                f\"Firewall Events: {entry['Firewall Events']}\\n\"\n",
    "                f\"Authentication Failures: {entry['Authentication Failures']}\\n\"\n",
    "                f\"Authorization Failures: {entry['Authorization Failures']}\\n\"\n",
    "                f\"SSL/TLS Certificate Expiry: {entry['SSL/TLS Certificate Expiry']}\\n\"\n",
    "                f\"NTP Synchronization: {entry['NTP Synchronization']}\\n\"\n",
    "                f\"Unauthorized Device Inventory: {entry['Unauthorized Device Inventory']}\\n\"\n",
    "                f\"Backup Integrity: {entry['Backup Integrity']}\\n\"\n",
    "                f\"NMS Alerts: {entry['NMS Alerts']}\\n\\n\"\n",
    "            )\n",
    "\n",
    "        message_content += \"What is the predicted Risk Score for next entry? Only output your predicted score (float number). Only output a single float number. No other text.\"\n",
    "        \n",
    "        return {\n",
    "            \"role\": \"user\",\n",
    "            \"content\": message_content\n",
    "        }\n",
    "\n",
    "    def create_user_message_w_reasoning(self, historical_window):\n",
    "        \"\"\"Creates a user message with a historical window of data.\"\"\"\n",
    "        message_content = \"Given the following historical system characteristics, predict the Risk Score:\\n\\n\"\n",
    "        \n",
    "        for i, entry in enumerate(historical_window):\n",
    "            message_content += (\n",
    "                f\"--- Entry {i+1} ---\\n\"\n",
    "                f\"Cluster: {entry['Cluster']}\\n\"\n",
    "                f\"Namespace: {entry['Namespace']}\\n\"\n",
    "                f\"Policy Violations: {entry['Policy Violations']}\\n\"\n",
    "                f\"Suspicious Process Executions: {entry['Suspicious Process Executions']}\\n\"\n",
    "                f\"Image Vulnerabilities: {entry['Image Vulnerabilities']}\\n\"\n",
    "                f\"Service Configurations: {entry['Service Configurations']}\\n\"\n",
    "                f\"Service Reachability: {entry['Service Reachability']}\\n\"\n",
    "                f\"NEP Vulnerabilities: {entry['NEP Vulnerabilities']}\\n\"\n",
    "                f\"RBAC Configuration: {entry['RBAC Configuration']}\\n\"\n",
    "                 f\"Protocol Anomalies: {entry['Protocol Anomalies']}\\n\"\n",
    "                f\"Routing Table Changes: {entry['Routing Table Changes']}\\n\"\n",
    "                f\"DoS Attacks: {entry['DoS Attacks']}\\n\"\n",
    "                f\"Firewall Events: {entry['Firewall Events']}\\n\"\n",
    "                f\"Authentication Failures: {entry['Authentication Failures']}\\n\"\n",
    "                f\"Authorization Failures: {entry['Authorization Failures']}\\n\"\n",
    "                f\"SSL/TLS Certificate Expiry: {entry['SSL/TLS Certificate Expiry']}\\n\"\n",
    "                f\"NTP Synchronization: {entry['NTP Synchronization']}\\n\"\n",
    "                f\"Unauthorized Device Inventory: {entry['Unauthorized Device Inventory']}\\n\"\n",
    "                f\"Backup Integrity: {entry['Backup Integrity']}\\n\"\n",
    "                f\"NMS Alerts: {entry['NMS Alerts']}\\n\\n\"\n",
    "            )\n",
    "        message_content += \"What is the predicted Risk Score for next entry? Do some reasoning. Only output your predicted score (float number). Only output a single float number. No other text.\"\n",
    "        \n",
    "        return {\n",
    "            \"role\": \"user\",\n",
    "            \"content\": message_content\n",
    "        }\n",
    "\n",
    "\n",
    "    def predict_risk_score(self, historical_window):\n",
    "        \"\"\"Predicts the risk score based on a historical window of entries.\"\"\"\n",
    "        messages = [\n",
    "            self.system_message,\n",
    "            #self.create_user_message(historical_window),\n",
    "            self.create_user_message_w_reasoning(historical_window),\n",
    "            {\"role\": \"assistant\", \"content\": \"\"}\n",
    "        ]\n",
    "        \n",
    "        response = openai.chat.completions.create(\n",
    "            model=self.model,\n",
    "            messages=messages,\n",
    "            max_tokens=50,\n",
    "            temperature=0.0\n",
    "        )\n",
    "        \n",
    "        return response.choices[0].message.content"
   ]
  },
  {
   "cell_type": "code",
   "execution_count": 4,
   "metadata": {},
   "outputs": [],
   "source": [
    "import numpy as np\n",
    "\n",
    "def evaluate_predictions(predictor, dataset, n=10, window_size=3):\n",
    "    predictions = []\n",
    "    ground_truth = []\n",
    "    \n",
    "    for i in range(window_size, n):\n",
    "        # Prepare the historical window\n",
    "        historical_window = [dataset[j] for j in range(i-window_size, i)]\n",
    "        \n",
    "        # Predict the risk score\n",
    "        predicted_score = float(predictor.predict_risk_score(historical_window))\n",
    "        \n",
    "        # Extract the ground truth risk score\n",
    "        actual_score = dataset[i]['Risk Score']\n",
    "        \n",
    "        # Append the results for evaluation\n",
    "        predictions.append(float(predicted_score))\n",
    "        ground_truth.append(actual_score)\n",
    "        \n",
    "        print(f\"Predicted Risk Score: {predicted_score}, Actual Risk Score: {actual_score}\")\n",
    "    \n",
    "    # Calculate the Mean Squared Error (MSE) as an evaluation metric\n",
    "    mse = np.mean((np.array(predictions) - np.array(ground_truth)) ** 2)\n",
    "    print(f\"Mean Squared Error over first {n} entries: {mse}\")"
   ]
  },
  {
   "cell_type": "markdown",
   "metadata": {},
   "source": [
    "## zero shot raw prediction"
   ]
  },
  {
   "cell_type": "code",
   "execution_count": 56,
   "metadata": {},
   "outputs": [
    {
     "name": "stdout",
     "output_type": "stream",
     "text": [
      "Predicted Risk Score: 3.5\n",
      "Predicted Risk Score: 3.5, Actual Risk Score: 46.5\n",
      "Predicted Risk Score: 0.75, Actual Risk Score: 15.0\n",
      "Predicted Risk Score: 3.5, Actual Risk Score: 49.0\n",
      "Predicted Risk Score: 0.75, Actual Risk Score: 30.0\n",
      "Predicted Risk Score: 3.5, Actual Risk Score: 46.0\n",
      "Predicted Risk Score: 0.75, Actual Risk Score: 20.0\n",
      "Predicted Risk Score: 0.75, Actual Risk Score: 40.0\n",
      "Mean Squared Error over first 10 entries: 1242.1785714285713\n"
     ]
    }
   ],
   "source": [
    "# Initialize the predictor\n",
    "predictor = RiskScorePredictor(model=\"gpt-3.5-turbo-1106\")\n",
    "\n",
    "# Assume we want to use a window of the last 3 entries to predict the risk score\n",
    "historical_window = [train_data[i] for i in range(10)]\n",
    "\n",
    "# Predict the risk score based on the historical window\n",
    "predicted_risk_score = predictor.predict_risk_score(historical_window)\n",
    "print(f\"Predicted Risk Score: {predicted_risk_score}\")\n",
    "\n",
    "evaluate_predictions(predictor, train_data, n=10, window_size=3)"
   ]
  },
  {
   "cell_type": "markdown",
   "metadata": {},
   "source": [
    "## with reasoning"
   ]
  },
  {
   "cell_type": "code",
   "execution_count": 11,
   "metadata": {},
   "outputs": [
    {
     "name": "stdout",
     "output_type": "stream",
     "text": [
      "Predicted Risk Score: 6.5\n",
      "Predicted Risk Score: 7.3, Actual Risk Score: 46.5\n",
      "Predicted Risk Score: 7.2, Actual Risk Score: 15.0\n",
      "Predicted Risk Score: 7.2, Actual Risk Score: 49.0\n",
      "Predicted Risk Score: 7.5, Actual Risk Score: 30.0\n",
      "Predicted Risk Score: 7.5, Actual Risk Score: 46.0\n",
      "Predicted Risk Score: 6.8, Actual Risk Score: 20.0\n",
      "Predicted Risk Score: 4.2, Actual Risk Score: 40.0\n",
      "Mean Squared Error over first 10 entries: 969.8714285714286\n"
     ]
    }
   ],
   "source": [
    "# Initialize the predictor\n",
    "predictor = RiskScorePredictor(model=\"gpt-3.5-turbo\")\n",
    "\n",
    "# Assume we want to use a window of the last 3 entries to predict the risk score\n",
    "historical_window = [train_data[i] for i in range(10)]\n",
    "\n",
    "# Predict the risk score based on the historical window\n",
    "predicted_risk_score = predictor.predict_risk_score(historical_window)\n",
    "print(f\"Predicted Risk Score: {predicted_risk_score}\")\n",
    "\n",
    "evaluate_predictions(predictor, train_data, n=10, window_size=3)"
   ]
  },
  {
   "cell_type": "code",
   "execution_count": null,
   "metadata": {},
   "outputs": [],
   "source": []
  }
 ],
 "metadata": {
  "kernelspec": {
   "display_name": "Python 3 (ipykernel)",
   "language": "python",
   "name": "python3"
  },
  "language_info": {
   "codemirror_mode": {
    "name": "ipython",
    "version": 3
   },
   "file_extension": ".py",
   "mimetype": "text/x-python",
   "name": "python",
   "nbconvert_exporter": "python",
   "pygments_lexer": "ipython3",
   "version": "3.12.2"
  }
 },
 "nbformat": 4,
 "nbformat_minor": 2
}
